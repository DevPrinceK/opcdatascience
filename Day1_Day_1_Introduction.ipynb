{
 "cells": [
  {
   "cell_type": "markdown",
   "id": "b9bb0435",
   "metadata": {},
   "source": [
    "# Day 1 — Introduction to Data Science & Workflow\n",
    "\n",
    "**Duration:** 2 hours\n",
    "\n",
    "**Objectives:**\n",
    "- Understand what Data Science is\n",
    "- Learn the Data Science workflow\n",
    "- See tools and a first hands-on demo (Titanic)\n",
    "\n",
    "---"
   ]
  },
  {
   "cell_type": "markdown",
   "id": "224ec85a",
   "metadata": {},
   "source": [
    "## 1. Warm-up & Motivation\n",
    "\n",
    "Data is the new oil. Examples: Netflix recommendations, Uber ETA predictions, healthcare predictions. Discussion prompt: *What comes to your mind when you hear 'Data Science'?*"
   ]
  },
  {
   "cell_type": "markdown",
   "id": "dee8efb4",
   "metadata": {},
   "source": [
    "## 2. What is Data Science?\n",
    "\n",
    "Data Science = intersection of **Math/Statistics**, **Programming**, and **Domain Knowledge**. A data scientist combines these to extract insights and build predictive systems."
   ]
  },
  {
   "cell_type": "markdown",
   "id": "b4393059",
   "metadata": {},
   "source": [
    "## 3. The Data Science Workflow\n",
    "\n",
    "1. Problem definition\n",
    "2. Data collection\n",
    "3. Data cleaning & preprocessing\n",
    "4. Exploratory data analysis (EDA)\n",
    "5. Modeling\n",
    "6. Evaluation\n",
    "7. Deployment\n",
    "8. Communication\n",
    "\n",
    "> Note: The workflow is iterative."
   ]
  },
  {
   "cell_type": "markdown",
   "id": "b8464289",
   "metadata": {},
   "source": [
    "## 4. Tools of the Trade (short intro)\n",
    "\n",
    "Common tools we will use across the week:\n",
    "- Python (pandas, numpy, matplotlib, seaborn, scikit-learn)\n",
    "- Jupyter Notebooks / Google Colab\n",
    "- Git/GitHub\n",
    "- SQL"
   ]
  },
  {
   "cell_type": "markdown",
   "id": "4fa602e4",
   "metadata": {},
   "source": [
    "## 5. Tiny demo — pandas basics\n",
    "\n",
    "Run the cell below to see a tiny DataFrame and a simple summary."
   ]
  },
  {
   "cell_type": "code",
   "execution_count": 1,
   "id": "a05c0e25",
   "metadata": {},
   "outputs": [
    {
     "name": "stdout",
     "output_type": "stream",
     "text": [
      "\n",
      "Average Score: 87.66666666666667\n"
     ]
    }
   ],
   "source": [
    "# Tiny pandas demo\n",
    "import pandas as pd\n",
    "\n",
    "data = {'Name': ['Alice', 'Bob', 'Charlie'],\n",
    "        'Age': [24, 27, 22],\n",
    "        'Score': [85, 90, 88]}\n",
    "\n",
    "df = pd.DataFrame(data)\n",
    "df\n",
    "\n",
    "# Basic statistics\n",
    "print('\\nAverage Score:', df['Score'].mean())"
   ]
  },
  {
   "cell_type": "markdown",
   "id": "8eccb450",
   "metadata": {},
   "source": [
    "## 6. Hands-on dataset: Titanic (EDA preview)\n",
    "\n",
    "We'll load the Titanic dataset from seaborn, inspect it, compute simple aggregates, and plot a simple chart."
   ]
  },
  {
   "cell_type": "code",
   "execution_count": 2,
   "id": "6ddb5777",
   "metadata": {},
   "outputs": [
    {
     "name": "stdout",
     "output_type": "stream",
     "text": [
      "Shape: (891, 15)\n"
     ]
    },
    {
     "data": {
      "application/vnd.microsoft.datawrangler.viewer.v0+json": {
       "columns": [
        {
         "name": "index",
         "rawType": "int64",
         "type": "integer"
        },
        {
         "name": "survived",
         "rawType": "int64",
         "type": "integer"
        },
        {
         "name": "pclass",
         "rawType": "int64",
         "type": "integer"
        },
        {
         "name": "sex",
         "rawType": "object",
         "type": "string"
        },
        {
         "name": "age",
         "rawType": "float64",
         "type": "float"
        },
        {
         "name": "sibsp",
         "rawType": "int64",
         "type": "integer"
        },
        {
         "name": "parch",
         "rawType": "int64",
         "type": "integer"
        },
        {
         "name": "fare",
         "rawType": "float64",
         "type": "float"
        },
        {
         "name": "embarked",
         "rawType": "object",
         "type": "string"
        },
        {
         "name": "class",
         "rawType": "category",
         "type": "unknown"
        },
        {
         "name": "who",
         "rawType": "object",
         "type": "string"
        },
        {
         "name": "adult_male",
         "rawType": "bool",
         "type": "boolean"
        },
        {
         "name": "deck",
         "rawType": "category",
         "type": "unknown"
        },
        {
         "name": "embark_town",
         "rawType": "object",
         "type": "string"
        },
        {
         "name": "alive",
         "rawType": "object",
         "type": "string"
        },
        {
         "name": "alone",
         "rawType": "bool",
         "type": "boolean"
        }
       ],
       "ref": "8dc87533-0af3-422c-b9a7-f716604c4cf3",
       "rows": [
        [
         "0",
         "0",
         "3",
         "male",
         "22.0",
         "1",
         "0",
         "7.25",
         "S",
         "Third",
         "man",
         "True",
         null,
         "Southampton",
         "no",
         "False"
        ],
        [
         "1",
         "1",
         "1",
         "female",
         "38.0",
         "1",
         "0",
         "71.2833",
         "C",
         "First",
         "woman",
         "False",
         "C",
         "Cherbourg",
         "yes",
         "False"
        ],
        [
         "2",
         "1",
         "3",
         "female",
         "26.0",
         "0",
         "0",
         "7.925",
         "S",
         "Third",
         "woman",
         "False",
         null,
         "Southampton",
         "yes",
         "True"
        ],
        [
         "3",
         "1",
         "1",
         "female",
         "35.0",
         "1",
         "0",
         "53.1",
         "S",
         "First",
         "woman",
         "False",
         "C",
         "Southampton",
         "yes",
         "False"
        ],
        [
         "4",
         "0",
         "3",
         "male",
         "35.0",
         "0",
         "0",
         "8.05",
         "S",
         "Third",
         "man",
         "True",
         null,
         "Southampton",
         "no",
         "True"
        ]
       ],
       "shape": {
        "columns": 15,
        "rows": 5
       }
      },
      "text/html": [
       "<div>\n",
       "<style scoped>\n",
       "    .dataframe tbody tr th:only-of-type {\n",
       "        vertical-align: middle;\n",
       "    }\n",
       "\n",
       "    .dataframe tbody tr th {\n",
       "        vertical-align: top;\n",
       "    }\n",
       "\n",
       "    .dataframe thead th {\n",
       "        text-align: right;\n",
       "    }\n",
       "</style>\n",
       "<table border=\"1\" class=\"dataframe\">\n",
       "  <thead>\n",
       "    <tr style=\"text-align: right;\">\n",
       "      <th></th>\n",
       "      <th>survived</th>\n",
       "      <th>pclass</th>\n",
       "      <th>sex</th>\n",
       "      <th>age</th>\n",
       "      <th>sibsp</th>\n",
       "      <th>parch</th>\n",
       "      <th>fare</th>\n",
       "      <th>embarked</th>\n",
       "      <th>class</th>\n",
       "      <th>who</th>\n",
       "      <th>adult_male</th>\n",
       "      <th>deck</th>\n",
       "      <th>embark_town</th>\n",
       "      <th>alive</th>\n",
       "      <th>alone</th>\n",
       "    </tr>\n",
       "  </thead>\n",
       "  <tbody>\n",
       "    <tr>\n",
       "      <th>0</th>\n",
       "      <td>0</td>\n",
       "      <td>3</td>\n",
       "      <td>male</td>\n",
       "      <td>22.0</td>\n",
       "      <td>1</td>\n",
       "      <td>0</td>\n",
       "      <td>7.2500</td>\n",
       "      <td>S</td>\n",
       "      <td>Third</td>\n",
       "      <td>man</td>\n",
       "      <td>True</td>\n",
       "      <td>NaN</td>\n",
       "      <td>Southampton</td>\n",
       "      <td>no</td>\n",
       "      <td>False</td>\n",
       "    </tr>\n",
       "    <tr>\n",
       "      <th>1</th>\n",
       "      <td>1</td>\n",
       "      <td>1</td>\n",
       "      <td>female</td>\n",
       "      <td>38.0</td>\n",
       "      <td>1</td>\n",
       "      <td>0</td>\n",
       "      <td>71.2833</td>\n",
       "      <td>C</td>\n",
       "      <td>First</td>\n",
       "      <td>woman</td>\n",
       "      <td>False</td>\n",
       "      <td>C</td>\n",
       "      <td>Cherbourg</td>\n",
       "      <td>yes</td>\n",
       "      <td>False</td>\n",
       "    </tr>\n",
       "    <tr>\n",
       "      <th>2</th>\n",
       "      <td>1</td>\n",
       "      <td>3</td>\n",
       "      <td>female</td>\n",
       "      <td>26.0</td>\n",
       "      <td>0</td>\n",
       "      <td>0</td>\n",
       "      <td>7.9250</td>\n",
       "      <td>S</td>\n",
       "      <td>Third</td>\n",
       "      <td>woman</td>\n",
       "      <td>False</td>\n",
       "      <td>NaN</td>\n",
       "      <td>Southampton</td>\n",
       "      <td>yes</td>\n",
       "      <td>True</td>\n",
       "    </tr>\n",
       "    <tr>\n",
       "      <th>3</th>\n",
       "      <td>1</td>\n",
       "      <td>1</td>\n",
       "      <td>female</td>\n",
       "      <td>35.0</td>\n",
       "      <td>1</td>\n",
       "      <td>0</td>\n",
       "      <td>53.1000</td>\n",
       "      <td>S</td>\n",
       "      <td>First</td>\n",
       "      <td>woman</td>\n",
       "      <td>False</td>\n",
       "      <td>C</td>\n",
       "      <td>Southampton</td>\n",
       "      <td>yes</td>\n",
       "      <td>False</td>\n",
       "    </tr>\n",
       "    <tr>\n",
       "      <th>4</th>\n",
       "      <td>0</td>\n",
       "      <td>3</td>\n",
       "      <td>male</td>\n",
       "      <td>35.0</td>\n",
       "      <td>0</td>\n",
       "      <td>0</td>\n",
       "      <td>8.0500</td>\n",
       "      <td>S</td>\n",
       "      <td>Third</td>\n",
       "      <td>man</td>\n",
       "      <td>True</td>\n",
       "      <td>NaN</td>\n",
       "      <td>Southampton</td>\n",
       "      <td>no</td>\n",
       "      <td>True</td>\n",
       "    </tr>\n",
       "  </tbody>\n",
       "</table>\n",
       "</div>"
      ],
      "text/plain": [
       "   survived  pclass     sex   age  sibsp  parch     fare embarked  class  \\\n",
       "0         0       3    male  22.0      1      0   7.2500        S  Third   \n",
       "1         1       1  female  38.0      1      0  71.2833        C  First   \n",
       "2         1       3  female  26.0      0      0   7.9250        S  Third   \n",
       "3         1       1  female  35.0      1      0  53.1000        S  First   \n",
       "4         0       3    male  35.0      0      0   8.0500        S  Third   \n",
       "\n",
       "     who  adult_male deck  embark_town alive  alone  \n",
       "0    man        True  NaN  Southampton    no  False  \n",
       "1  woman       False    C    Cherbourg   yes  False  \n",
       "2  woman       False  NaN  Southampton   yes   True  \n",
       "3  woman       False    C  Southampton   yes  False  \n",
       "4    man        True  NaN  Southampton    no   True  "
      ]
     },
     "execution_count": 2,
     "metadata": {},
     "output_type": "execute_result"
    }
   ],
   "source": [
    "# Titanic EDA demo\n",
    "import seaborn as sns\n",
    "import pandas as pd\n",
    "import matplotlib.pyplot as plt\n",
    "\n",
    "sns.set()\n",
    "\n",
    "titanic = sns.load_dataset('titanic')\n",
    "print('Shape:', titanic.shape)\n",
    "\n",
    "titanic.head()\n"
   ]
  },
  {
   "cell_type": "code",
   "execution_count": 3,
   "id": "05bb67f6",
   "metadata": {},
   "outputs": [
    {
     "name": "stdout",
     "output_type": "stream",
     "text": [
      "<class 'pandas.core.frame.DataFrame'>\n",
      "RangeIndex: 891 entries, 0 to 890\n",
      "Data columns (total 15 columns):\n",
      " #   Column       Non-Null Count  Dtype   \n",
      "---  ------       --------------  -----   \n",
      " 0   survived     891 non-null    int64   \n",
      " 1   pclass       891 non-null    int64   \n",
      " 2   sex          891 non-null    object  \n",
      " 3   age          714 non-null    float64 \n",
      " 4   sibsp        891 non-null    int64   \n",
      " 5   parch        891 non-null    int64   \n",
      " 6   fare         891 non-null    float64 \n",
      " 7   embarked     889 non-null    object  \n",
      " 8   class        891 non-null    category\n",
      " 9   who          891 non-null    object  \n",
      " 10  adult_male   891 non-null    bool    \n",
      " 11  deck         203 non-null    category\n",
      " 12  embark_town  889 non-null    object  \n",
      " 13  alive        891 non-null    object  \n",
      " 14  alone        891 non-null    bool    \n",
      "dtypes: bool(2), category(2), float64(2), int64(4), object(5)\n",
      "memory usage: 80.7+ KB\n",
      "None\n",
      "\n",
      "Survival counts:\n",
      " survived\n",
      "0    549\n",
      "1    342\n",
      "Name: count, dtype: int64\n"
     ]
    }
   ],
   "source": [
    "# Quick checks: nulls and basic counts\n",
    "print(titanic.info())\n",
    "print('\\nSurvival counts:\\n', titanic['survived'].value_counts())"
   ]
  },
  {
   "cell_type": "code",
   "execution_count": 4,
   "id": "814993af",
   "metadata": {},
   "outputs": [
    {
     "name": "stdout",
     "output_type": "stream",
     "text": [
      "\n",
      "Survival rate by sex:\n",
      " sex\n",
      "female    0.742038\n",
      "male      0.188908\n",
      "Name: survived, dtype: float64\n"
     ]
    },
    {
     "data": {
      "image/png": "[encoded data removed]",
      "text/plain": [
       "<Figure size 640x480 with 1 Axes>"
      ]
     },
     "metadata": {},
     "output_type": "display_data"
    }
   ],
   "source": [
    "# Survival rate by sex\n",
    "print('\\nSurvival rate by sex:\\n', titanic.groupby('sex')['survived'].mean())\n",
    "\n",
    "import matplotlib.pyplot as plt\n",
    "import seaborn as sns\n",
    "sns.countplot(x='sex', hue='survived', data=titanic)\n",
    "plt.title('Titanic survival by sex')\n",
    "plt.show()"
   ]
  },
  {
   "cell_type": "markdown",
   "id": "900530bc",
   "metadata": {},
   "source": [
    "## 7. Mini exercise (in-notebook)\n",
    "\n",
    "1. Compute average age of survivors vs non-survivors.\n",
    "2. Plot age distribution (histogram) and comment on shape (skewed/symmetric).\n",
    "3. (Optional) Try grouping survival by passenger class (`class`)."
   ]
  },
  {
   "cell_type": "code",
   "execution_count": 5,
   "id": "a1254379",
   "metadata": {},
   "outputs": [
    {
     "name": "stdout",
     "output_type": "stream",
     "text": [
      "survived\n",
      "0    30.626179\n",
      "1    28.343690\n",
      "Name: age, dtype: float64\n"
     ]
    },
    {
     "data": {
      "image/png": "[encoded data removed]",
      "text/plain": [
       "<Figure size 640x480 with 1 Axes>"
      ]
     },
     "metadata": {},
     "output_type": "display_data"
    },
    {
     "name": "stdout",
     "output_type": "stream",
     "text": [
      "\n",
      "Survival rate by passenger class:\n",
      "class\n",
      "First     0.629630\n",
      "Second    0.472826\n",
      "Third     0.242363\n",
      "Name: survived, dtype: float64\n"
     ]
    },
    {
     "name": "stderr",
     "output_type": "stream",
     "text": [
      "C:\\Users\\branana\\AppData\\Local\\Temp\\ipykernel_19712\\1547591659.py:14: FutureWarning: The default of observed=False is deprecated and will be changed to True in a future version of pandas. Pass observed=False to retain current behavior or observed=True to adopt the future default and silence this warning.\n",
      "  print(titanic.groupby('class')['survived'].mean())\n"
     ]
    }
   ],
   "source": [
    "# Exercise starters\n",
    "# 1) Average age of survivors vs non-survivors\n",
    "print(titanic.groupby('survived')['age'].mean())\n",
    "\n",
    "# 2) Age histogram\n",
    "titanic['age'].hist(bins=30)\n",
    "plt.title('Age distribution')\n",
    "plt.xlabel('Age')\n",
    "plt.ylabel('Count')\n",
    "plt.show()\n",
    "\n",
    "# 3) Survival by class\n",
    "print('\\nSurvival rate by passenger class:')\n",
    "print(titanic.groupby('class')['survived'].mean())"
   ]
  },
  {
   "cell_type": "markdown",
   "id": "423a5976",
   "metadata": {},
   "source": [
    "## 8. Wrap-up & Reading\n",
    "\n",
    "Suggested reading:\n",
    "- Wes McKinney, *Python for Data Analysis* (Ch. 1–2)\n",
    "- Kaggle Titanic beginner tutorial\n",
    "\n",
    "Tomorrow: Day 2 — Data Acquisition, Cleaning, and Preprocessing."
   ]
  }
 ],
 "metadata": {
  "kernelspec": {
   "display_name": "venv",
   "language": "python",
   "name": "python3"
  },
  "language_info": {
   "codemirror_mode": {
    "name": "ipython",
    "version": 3
   },
   "file_extension": ".py",
   "mimetype": "text/x-python",
   "name": "python",
   "nbconvert_exporter": "python",
   "pygments_lexer": "ipython3",
   "version": "3.13.1"
  }
 },
 "nbformat": 4,
 "nbformat_minor": 5
}
