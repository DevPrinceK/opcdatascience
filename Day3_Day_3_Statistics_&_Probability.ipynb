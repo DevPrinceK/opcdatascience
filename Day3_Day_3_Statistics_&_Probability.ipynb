{
 "cells": [
  {
   "cell_type": "markdown",
   "id": "d5d037a9",
   "metadata": {},
   "source": [
    "# Day 3 — Foundations of Statistics & Probability\n",
    "\n",
    "**Duration:** 2 hours\n",
    "\n",
    "**Objectives:**\n",
    "- Refresh descriptive statistics and probability\n",
    "- Explore key distributions\n",
    "- Perform simple inferential tests"
   ]
  },
  {
   "cell_type": "markdown",
   "id": "6992d965",
   "metadata": {},
   "source": [
    "## 1. Descriptive statistics recap\n",
    "\n",
    "Measures: mean, median, mode, variance, standard deviation, IQR. We'll compute these on the `tips` dataset from seaborn."
   ]
  },
  {
   "cell_type": "code",
   "execution_count": null,
   "id": "14abe768",
   "metadata": {},
   "outputs": [],
   "source": [
    "import seaborn as sns\n",
    "import pandas as pd\n",
    "import matplotlib.pyplot as plt\n",
    "\n",
    "tips = sns.load_dataset('tips')\n",
    "\n",
    "print('Columns:', tips.columns.tolist())\n",
    "print('\\nFirst rows:')\n",
    "print(tips.head())\n",
    "\n",
    "print('\\nSummary stats for total_bill:')\n",
    "print(tips['total_bill'].describe())"
   ]
  },
  {
   "cell_type": "markdown",
   "id": "a7358174",
   "metadata": {},
   "source": [
    "## 2. Visualizing distributions\n",
    "\n",
    "Histograms and boxplots help us understand shape, spread and outliers."
   ]
  },
  {
   "cell_type": "code",
   "execution_count": null,
   "id": "0f12109e",
   "metadata": {},
   "outputs": [],
   "source": [
    "# Histogram and boxplot for total_bill\n",
    "plt.figure(figsize=(12,4))\n",
    "plt.subplot(1,2,1)\n",
    "plt.hist(tips['total_bill'], bins=20)\n",
    "plt.title('Histogram of total_bill')\n",
    "plt.xlabel('total_bill')\n",
    "\n",
    "plt.subplot(1,2,2)\n",
    "plt.boxplot(tips['total_bill'].dropna())\n",
    "plt.title('Boxplot of total_bill')\n",
    "plt.show()"
   ]
  },
  {
   "cell_type": "markdown",
   "id": "847a2efa",
   "metadata": {},
   "source": [
    "## 3. Probability basics & distributions\n",
    "\n",
    "We'll demonstrate Normal, Binomial and Poisson distributions using `scipy.stats`."
   ]
  },
  {
   "cell_type": "code",
   "execution_count": null,
   "id": "c7832ed5",
   "metadata": {},
   "outputs": [],
   "source": [
    "import numpy as np\n",
    "from scipy.stats import norm, binom, poisson\n",
    "\n",
    "# Normal: mean=0, sd=1\n",
    "x = np.linspace(-4,4,200)\n",
    "plt.plot(x, norm.pdf(x))\n",
    "plt.title('Standard Normal Distribution')\n",
    "plt.show()\n",
    "\n",
    "# Binomial example: n=10, p=0.5\n",
    "k = np.arange(0,11)\n",
    "pmf = binom.pmf(k, 10, 0.5)\n",
    "plt.bar(k, pmf)\n",
    "plt.title('Binomial PMF (n=10, p=0.5)')\n",
    "plt.xlabel('k')\n",
    "plt.show()\n",
    "\n",
    "# Poisson example: lambda=3\n",
    "k = np.arange(0,15)\n",
    "pmf_p = poisson.pmf(k, 3)\n",
    "plt.bar(k, pmf_p)\n",
    "plt.title('Poisson PMF (lambda=3)')\n",
    "plt.show()"
   ]
  },
  {
   "cell_type": "markdown",
   "id": "5d91e027",
   "metadata": {},
   "source": [
    "## 4. Correlation vs Causation\n",
    "\n",
    "Compute Pearson correlation matrix and visualize with a heatmap."
   ]
  },
  {
   "cell_type": "code",
   "execution_count": null,
   "id": "43b83114",
   "metadata": {},
   "outputs": [],
   "source": [
    "corr = tips.corr(numeric_only=True)\n",
    "print(corr)\n",
    "\n",
    "sns.heatmap(corr, annot=True)\n",
    "plt.title('Correlation matrix (tips)')\n",
    "plt.show()"
   ]
  },
  {
   "cell_type": "markdown",
   "id": "daa32844",
   "metadata": {},
   "source": [
    "## 5. Inferential statistics: Confidence intervals & Hypothesis testing\n",
    "\n",
    "We'll compute a 95% confidence interval for the mean tip and run a t-test comparing male vs female tips."
   ]
  },
  {
   "cell_type": "code",
   "execution_count": null,
   "id": "0ba1570d",
   "metadata": {},
   "outputs": [],
   "source": [
    "import numpy as np\n",
    "from scipy import stats\n",
    "\n",
    "# 95% CI for mean tip\n",
    "tips_arr = tips['tip'].dropna().values\n",
    "n = len(tips_arr)\n",
    "mean = tips_arr.mean()\n",
    "se = stats.sem(tips_arr)\n",
    "ci = stats.t.interval(0.95, n-1, loc=mean, scale=se)\n",
    "print('Mean tip:', mean)\n",
    "print('95% CI for mean tip:', ci)\n",
    "\n",
    "# t-test: male vs female tips\n",
    "male = tips[tips['sex']=='Male']['tip']\n",
    "female = tips[tips['sex']=='Female']['tip']\n",
    "stat, pvalue = stats.ttest_ind(male, female, equal_var=False)\n",
    "print('\\nT-test male vs female tips: t=', stat, ', p=', pvalue)"
   ]
  },
  {
   "cell_type": "markdown",
   "id": "1ebbb6a8",
   "metadata": {},
   "source": [
    "## 6. Interpreting p-values\n",
    "\n",
    "If p < 0.05, reject the null hypothesis at alpha=0.05. Here, check the p-value from the t-test and discuss."
   ]
  },
  {
   "cell_type": "markdown",
   "id": "7bf3dbb6",
   "metadata": {},
   "source": [
    "## 7. Bias vs Variance (conceptual)\n",
    "\n",
    "- Bias: error due to wrong model assumptions\n",
    "- Variance: error due to sensitivity to the training data\n",
    "\n",
    "Balancing them is central in ML model selection."
   ]
  },
  {
   "cell_type": "markdown",
   "id": "20a0fde8",
   "metadata": {},
   "source": [
    "## 8. Exercise (in-notebook)\n",
    "\n",
    "1. Compute 95% CI for `total_bill` mean.\n",
    "2. Test whether average `total_bill` for smokers vs non-smokers significantly differs (t-test).\n",
    "3. (Optional) Visualize distributions by `smoker` status."
   ]
  },
  {
   "cell_type": "code",
   "execution_count": null,
   "id": "ac685dc6",
   "metadata": {},
   "outputs": [],
   "source": [
    "# Exercise starters\n",
    "# 1) 95% CI for total_bill\n",
    "tb = tips['total_bill'].dropna()\n",
    "ci_tb = stats.t.interval(0.95, len(tb)-1, loc=tb.mean(), scale=stats.sem(tb))\n",
    "print('Total bill mean:', tb.mean(), '95% CI:', ci_tb)\n",
    "\n",
    "# 2) t-test smoker vs non-smoker\n",
    "t_smoker = tips[tips['smoker']=='Yes']['total_bill']\n",
    "t_non = tips[tips['smoker']=='No']['total_bill']\n",
    "stat2, p2 = stats.ttest_ind(t_smoker, t_non, equal_var=False)\n",
    "print('\\nT-test smoker vs non-smoker: t=', stat2, ', p=', p2)\n",
    "\n",
    "# 3) Visualization\n",
    "sns.boxplot(x='smoker', y='total_bill', data=tips)\n",
    "plt.title('Total bill by smoker status')\n",
    "plt.show()"
   ]
  },
  {
   "cell_type": "markdown",
   "id": "90743f98",
   "metadata": {},
   "source": [
    "## 9. Wrap-up & Reading\n",
    "\n",
    "Suggested: *Practical Statistics for Data Scientists* (Bruce & Bruce). Tomorrow: Day 4 — Machine Learning Foundations."
   ]
  }
 ],
 "metadata": {},
 "nbformat": 4,
 "nbformat_minor": 5
}
